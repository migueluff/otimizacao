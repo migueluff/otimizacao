{
 "cells": [
  {
   "metadata": {
    "ExecuteTime": {
     "end_time": "2024-10-01T18:52:26.387240939Z",
     "start_time": "2024-09-10T01:30:57.138389Z"
    }
   },
   "cell_type": "code",
   "source": "from knapsack_solver import *",
   "id": "beb0232067f7443a",
   "outputs": [],
   "execution_count": 2
  },
  {
   "metadata": {},
   "cell_type": "markdown",
   "source": [
    "## Teste 1 \n",
    "usando uma solução aleatória com tempo de limite de 1 segundo"
   ],
   "id": "e7b56a5de638b0c8"
  },
  {
   "metadata": {},
   "cell_type": "markdown",
   "source": [
    "### Dados do problema\n",
    "Profits:    1 1 1 5 5 5 3 6\n",
    "\n",
    "Weights:    1 2 3 7 8 10 5 3"
   ],
   "id": "13be1cc087b439d9"
  },
  {
   "metadata": {
    "ExecuteTime": {
     "end_time": "2024-10-01T18:52:34.022430Z",
     "start_time": "2024-10-01T18:52:33.993598Z"
    }
   },
   "cell_type": "code",
   "source": [
    "import ipywidgets as widgets\n",
    "from ipywidgets import interact, interactive, fixed, interact_manual"
   ],
   "id": "463c947071e651f",
   "outputs": [],
   "execution_count": 2
  },
  {
   "metadata": {
    "ExecuteTime": {
     "end_time": "2024-10-01T18:52:54.389150Z",
     "start_time": "2024-10-01T18:52:54.386992Z"
    }
   },
   "cell_type": "code",
   "source": [
    "def f(x):\n",
    "    print(f\"Minha região é {x}\")"
   ],
   "id": "babe49dbccccb9fb",
   "outputs": [],
   "execution_count": 5
  },
  {
   "metadata": {
    "ExecuteTime": {
     "end_time": "2024-10-01T18:53:47.673205Z",
     "start_time": "2024-10-01T18:53:47.667291Z"
    }
   },
   "cell_type": "code",
   "source": "interact(f, x=['apples','oranges']);",
   "id": "9a49f2554e45eefc",
   "outputs": [
    {
     "data": {
      "text/plain": [
       "interactive(children=(Dropdown(description='x', options=('apples', 'oranges'), value='apples'), Output()), _do…"
      ],
      "application/vnd.jupyter.widget-view+json": {
       "version_major": 2,
       "version_minor": 0,
       "model_id": "c5040c266c8b472db1193630b9a4277f"
      }
     },
     "metadata": {},
     "output_type": "display_data"
    }
   ],
   "execution_count": 8
  },
  {
   "metadata": {
    "ExecuteTime": {
     "end_time": "2024-10-01T18:52:26.388060888Z",
     "start_time": "2024-10-01T18:48:01.222869Z"
    }
   },
   "cell_type": "code",
   "source": [
    "\n",
    "widgets.Dropdown(\n",
    "    options=['us-east-1','sa-east-1'],\n",
    "    value='us-east-1',\n",
    "    description='Region',\n",
    "    disable=False\n",
    ")\n",
    "\n",
    "print(option.value)"
   ],
   "id": "7cba6b05a1d97496",
   "outputs": [
    {
     "ename": "AssertionError",
     "evalue": "",
     "output_type": "error",
     "traceback": [
      "\u001B[0;31m---------------------------------------------------------------------------\u001B[0m",
      "\u001B[0;31mAssertionError\u001B[0m                            Traceback (most recent call last)",
      "Cell \u001B[0;32mIn[28], line 7\u001B[0m\n\u001B[1;32m      1\u001B[0m option \u001B[38;5;241m=\u001B[39m widgets\u001B[38;5;241m.\u001B[39mDropdown(\n\u001B[1;32m      2\u001B[0m     options\u001B[38;5;241m=\u001B[39m[\u001B[38;5;124m'\u001B[39m\u001B[38;5;124mus-east-1\u001B[39m\u001B[38;5;124m'\u001B[39m,\u001B[38;5;124m'\u001B[39m\u001B[38;5;124msa-east-1\u001B[39m\u001B[38;5;124m'\u001B[39m],\n\u001B[1;32m      3\u001B[0m     value\u001B[38;5;241m=\u001B[39m\u001B[38;5;124m'\u001B[39m\u001B[38;5;124mus-east-1\u001B[39m\u001B[38;5;124m'\u001B[39m,\n\u001B[1;32m      4\u001B[0m     description\u001B[38;5;241m=\u001B[39m\u001B[38;5;124m'\u001B[39m\u001B[38;5;124mRegion\u001B[39m\u001B[38;5;124m'\u001B[39m,\n\u001B[1;32m      5\u001B[0m     disable\u001B[38;5;241m=\u001B[39m\u001B[38;5;28;01mFalse\u001B[39;00m\n\u001B[1;32m      6\u001B[0m )\n\u001B[0;32m----> 7\u001B[0m option\u001B[38;5;241m.\u001B[39mwidgets()\n\u001B[1;32m      8\u001B[0m \u001B[38;5;28mprint\u001B[39m(option\u001B[38;5;241m.\u001B[39mvalue)\n",
      "File \u001B[0;32m~/miniconda3/envs/Optmization/lib/python3.11/site-packages/ipywidgets/widgets/widget.py:296\u001B[0m, in \u001B[0;36m_staticproperty.__get__\u001B[0;34m(self, owner_self, owner_cls)\u001B[0m\n\u001B[1;32m    295\u001B[0m \u001B[38;5;28;01mdef\u001B[39;00m \u001B[38;5;21m__get__\u001B[39m(\u001B[38;5;28mself\u001B[39m, owner_self, owner_cls):\n\u001B[0;32m--> 296\u001B[0m     \u001B[38;5;28;01massert\u001B[39;00m owner_self \u001B[38;5;129;01mis\u001B[39;00m \u001B[38;5;28;01mNone\u001B[39;00m\n\u001B[1;32m    297\u001B[0m     \u001B[38;5;28;01mreturn\u001B[39;00m \u001B[38;5;28mself\u001B[39m\u001B[38;5;241m.\u001B[39mfget()\n",
      "\u001B[0;31mAssertionError\u001B[0m: "
     ]
    }
   ],
   "execution_count": 28
  },
  {
   "metadata": {
    "ExecuteTime": {
     "end_time": "2024-10-01T18:52:26.388236780Z",
     "start_time": "2024-10-01T18:48:41.526115Z"
    }
   },
   "cell_type": "code",
   "source": [
    "widgets.Select(\n",
    "    options=['Linux', 'Windows', 'macOS'],\n",
    "    value='macOS',\n",
    "    # rows=10,\n",
    "    description='OS:',\n",
    "    disabled=False\n",
    ")"
   ],
   "id": "3a9ce2b664848ba0",
   "outputs": [
    {
     "data": {
      "text/plain": [
       "Select(description='OS:', index=2, options=('Linux', 'Windows', 'macOS'), value='macOS')"
      ],
      "application/vnd.jupyter.widget-view+json": {
       "version_major": 2,
       "version_minor": 0,
       "model_id": "2d425cd60f5f4c14a98411e47ee5c0b4"
      }
     },
     "execution_count": 29,
     "metadata": {},
     "output_type": "execute_result"
    }
   ],
   "execution_count": 29
  },
  {
   "metadata": {},
   "cell_type": "code",
   "outputs": [],
   "execution_count": null,
   "source": "",
   "id": "2dffe5098f076578"
  },
  {
   "metadata": {
    "ExecuteTime": {
     "end_time": "2024-10-01T18:52:26.388438162Z",
     "start_time": "2024-10-01T18:45:56.039374Z"
    }
   },
   "cell_type": "code",
   "source": [
    "\n",
    "\n",
    "file_path = 'knapsack_data.txt'\n",
    "file_path = Path(file_path)\n",
    "if file_path.exists():\n",
    "    \n",
    "    N, Q, items = read_knapsack_data(file_path)\n",
    "\n",
    "    print(f\"Number of items (n): {N}\")\n",
    "    print(f\"Capacity (Q): {Q}\")\n",
    "    print(f\"Items profit and weight: {items}\")\n",
    "    C = randomized_solution(N,Q,items, 1)\n",
    "    best_profit, index = verify_solution(C,Q)\n",
    "    print(f\"Best profit: {best_profit}\")\n",
    "    print(C[index])"
   ],
   "id": "e75867839dd69ae0",
   "outputs": [
    {
     "ename": "NameError",
     "evalue": "name 'options' is not defined",
     "output_type": "error",
     "traceback": [
      "\u001B[0;31m---------------------------------------------------------------------------\u001B[0m",
      "\u001B[0;31mNameError\u001B[0m                                 Traceback (most recent call last)",
      "Cell \u001B[0;32mIn[12], line 1\u001B[0m\n\u001B[0;32m----> 1\u001B[0m \u001B[38;5;28mprint\u001B[39m(options)\n\u001B[1;32m      3\u001B[0m file_path \u001B[38;5;241m=\u001B[39m \u001B[38;5;124m'\u001B[39m\u001B[38;5;124mknapsack_data.txt\u001B[39m\u001B[38;5;124m'\u001B[39m\n\u001B[1;32m      4\u001B[0m file_path \u001B[38;5;241m=\u001B[39m Path(file_path)\n",
      "\u001B[0;31mNameError\u001B[0m: name 'options' is not defined"
     ]
    }
   ],
   "execution_count": 12
  },
  {
   "metadata": {},
   "cell_type": "markdown",
   "source": [
    "### Teste 2\n",
    "Usando uma solução determinística (ordenando pela razao profit/weight ,ruim demais)"
   ],
   "id": "4ab8b22a0e6a6c29"
  },
  {
   "metadata": {
    "ExecuteTime": {
     "end_time": "2024-10-01T18:52:26.388584525Z",
     "start_time": "2024-09-10T01:30:58.260423Z"
    }
   },
   "cell_type": "code",
   "source": [
    "C = maybe_smarter_solution(Q, items, 1)\n",
    "best_profit, index = verify_solution(C, Q)\n",
    "print(f\"Best profit: {best_profit}\")\n",
    "print(C[index])\n"
   ],
   "id": "3add651f869a85fb",
   "outputs": [
    {
     "name": "stdout",
     "output_type": "stream",
     "text": [
      "Best profit: 7\n",
      "[(6, 3, 2.0), (1, 1, 1.0)]\n"
     ]
    }
   ],
   "execution_count": 4
  },
  {
   "metadata": {},
   "cell_type": "markdown",
   "source": [
    "### Teste 3\n",
    "Usando uma solução determinística (ordenando pelo profit)"
   ],
   "id": "28f5ff628d543253"
  },
  {
   "metadata": {
    "ExecuteTime": {
     "end_time": "2024-10-01T18:52:26.388714631Z",
     "start_time": "2024-09-10T01:30:59.414396Z"
    }
   },
   "cell_type": "code",
   "source": [
    "C = maybe_smarter_solution_2(Q, items, 1)\n",
    "best_profit, index = verify_solution(C, Q)\n",
    "print(f\"Best profit: {best_profit}\")\n",
    "print(C[index]"
   ],
   "id": "8988a84f8e48f7cd",
   "outputs": [
    {
     "name": "stdout",
     "output_type": "stream",
     "text": [
      "Best profit: 11\n",
      "[(6, 3), (5, 7)]\n"
     ]
    }
   ],
   "execution_count": 5
  }
 ],
 "metadata": {
  "kernelspec": {
   "display_name": "Python 3",
   "language": "python",
   "name": "python3"
  },
  "language_info": {
   "codemirror_mode": {
    "name": "ipython",
    "version": 2
   },
   "file_extension": ".py",
   "mimetype": "text/x-python",
   "name": "python",
   "nbconvert_exporter": "python",
   "pygments_lexer": "ipython2",
   "version": "2.7.6"
  }
 },
 "nbformat": 4,
 "nbformat_minor": 5
}
