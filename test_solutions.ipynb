{
 "cells": [
  {
   "metadata": {
    "ExecuteTime": {
     "end_time": "2024-09-10T01:30:57.140810Z",
     "start_time": "2024-09-10T01:30:57.138389Z"
    }
   },
   "cell_type": "code",
   "source": "from knapsack_solver import *",
   "id": "beb0232067f7443a",
   "outputs": [],
   "execution_count": 2
  },
  {
   "metadata": {},
   "cell_type": "markdown",
   "source": [
    "## Teste 1 \n",
    "usando uma solução aleatória com tempo de limite de 1 segundo"
   ],
   "id": "e7b56a5de638b0c8"
  },
  {
   "metadata": {},
   "cell_type": "markdown",
   "source": [
    "### Dados do problema\n",
    "Profits:    1 1 1 5 5 5 3 6\n",
    "\n",
    "Weights:    1 2 3 7 8 10 5 3"
   ],
   "id": "13be1cc087b439d9"
  },
  {
   "metadata": {
    "ExecuteTime": {
     "end_time": "2024-09-10T01:30:58.247664Z",
     "start_time": "2024-09-10T01:30:57.198148Z"
    }
   },
   "cell_type": "code",
   "source": [
    "\n",
    "\n",
    "file_path = 'knapsack_data.txt'\n",
    "file_path = Path(file_path)\n",
    "if file_path.exists():\n",
    "    \n",
    "    N, Q, items = read_knapsack_data(file_path)\n",
    "\n",
    "    print(f\"Number of items (n): {N}\")\n",
    "    print(f\"Capacity (Q): {Q}\")\n",
    "    print(f\"Items profit and weight: {items}\")\n",
    "    C = randomized_solution(N,Q,items, 1)\n",
    "    best_profit, index = verify_solution(C,Q)\n",
    "    print(f\"Best profit: {best_profit}\")\n",
    "    print(C[index])"
   ],
   "id": "e75867839dd69ae0",
   "outputs": [
    {
     "name": "stdout",
     "output_type": "stream",
     "text": [
      "Number of items (n): 8\n",
      "Capacity (Q): 10\n",
      "Items profit and weight: [(1, 1), (1, 2), (1, 3), (5, 7), (5, 8), (5, 10), (3, 5), (6, 3)]\n",
      "Best profit: 11\n",
      "[(6, 3), (5, 7)]\n"
     ]
    }
   ],
   "execution_count": 3
  },
  {
   "metadata": {},
   "cell_type": "markdown",
   "source": [
    "### Teste 2\n",
    "Usando uma solução determinística (ordenando pela razao profit/weight ,ruim demais)"
   ],
   "id": "4ab8b22a0e6a6c29"
  },
  {
   "metadata": {
    "ExecuteTime": {
     "end_time": "2024-09-10T01:30:59.332866Z",
     "start_time": "2024-09-10T01:30:58.260423Z"
    }
   },
   "cell_type": "code",
   "source": [
    "C = maybe_smarter_solution(Q, items, 1)\n",
    "best_profit, index = verify_solution(C, Q)\n",
    "print(f\"Best profit: {best_profit}\")\n",
    "print(C[index])\n"
   ],
   "id": "3add651f869a85fb",
   "outputs": [
    {
     "name": "stdout",
     "output_type": "stream",
     "text": [
      "Best profit: 7\n",
      "[(6, 3, 2.0), (1, 1, 1.0)]\n"
     ]
    }
   ],
   "execution_count": 4
  },
  {
   "metadata": {},
   "cell_type": "markdown",
   "source": [
    "### Teste 3\n",
    "Usando uma solução determinística (ordenando pelo profit)"
   ],
   "id": "28f5ff628d543253"
  },
  {
   "metadata": {
    "ExecuteTime": {
     "end_time": "2024-09-10T01:31:00.615252Z",
     "start_time": "2024-09-10T01:30:59.414396Z"
    }
   },
   "cell_type": "code",
   "source": [
    "C = maybe_smarter_solution_2(Q, items, 1)\n",
    "best_profit, index = verify_solution(C, Q)\n",
    "print(f\"Best profit: {best_profit}\")\n",
    "print(C[index]"
   ],
   "id": "8988a84f8e48f7cd",
   "outputs": [
    {
     "name": "stdout",
     "output_type": "stream",
     "text": [
      "Best profit: 11\n",
      "[(6, 3), (5, 7)]\n"
     ]
    }
   ],
   "execution_count": 5
  }
 ],
 "metadata": {
  "kernelspec": {
   "display_name": "Python 3",
   "language": "python",
   "name": "python3"
  },
  "language_info": {
   "codemirror_mode": {
    "name": "ipython",
    "version": 2
   },
   "file_extension": ".py",
   "mimetype": "text/x-python",
   "name": "python",
   "nbconvert_exporter": "python",
   "pygments_lexer": "ipython2",
   "version": "2.7.6"
  }
 },
 "nbformat": 4,
 "nbformat_minor": 5
}
